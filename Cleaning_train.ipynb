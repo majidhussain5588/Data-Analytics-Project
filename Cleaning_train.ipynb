{
 "cells": [
  {
   "cell_type": "code",
   "execution_count": 1,
   "id": "4a0956c1",
   "metadata": {},
   "outputs": [],
   "source": [
    "import pandas as pd\n",
    "import numpy as np"
   ]
  },
  {
   "cell_type": "code",
   "execution_count": 2,
   "id": "d74c2c90",
   "metadata": {},
   "outputs": [],
   "source": [
    "#Load the dataset\n",
    "file_path = \"train.csv\"  # Update the file path if needed\n",
    "df = pd.read_csv(file_path)"
   ]
  },
  {
   "cell_type": "code",
   "execution_count": 6,
   "id": "b9f23b4c",
   "metadata": {},
   "outputs": [
    {
     "name": "stdout",
     "output_type": "stream",
     "text": [
      "Before Cleaning:\n",
      "<class 'pandas.core.frame.DataFrame'>\n",
      "Int64Index: 183 entries, 1 to 889\n",
      "Data columns (total 12 columns):\n",
      " #   Column       Non-Null Count  Dtype  \n",
      "---  ------       --------------  -----  \n",
      " 0   PassengerId  183 non-null    int64  \n",
      " 1   Survived     183 non-null    int64  \n",
      " 2   Pclass       183 non-null    int64  \n",
      " 3   Name         183 non-null    object \n",
      " 4   Sex          183 non-null    object \n",
      " 5   Age          183 non-null    float64\n",
      " 6   SibSp        183 non-null    int64  \n",
      " 7   Parch        183 non-null    int64  \n",
      " 8   Ticket       183 non-null    object \n",
      " 9   Fare         183 non-null    float64\n",
      " 10  Cabin        183 non-null    object \n",
      " 11  Embarked     183 non-null    object \n",
      "dtypes: float64(2), int64(5), object(5)\n",
      "memory usage: 18.6+ KB\n",
      "None\n",
      "       PassengerId    Survived      Pclass         Age       SibSp  \\\n",
      "count   183.000000  183.000000  183.000000  183.000000  183.000000   \n",
      "mean    455.366120    0.672131    1.191257   35.674426    0.464481   \n",
      "std     247.052476    0.470725    0.515187   15.643866    0.644159   \n",
      "min       2.000000    0.000000    1.000000    0.920000    0.000000   \n",
      "25%     263.500000    0.000000    1.000000   24.000000    0.000000   \n",
      "50%     457.000000    1.000000    1.000000   36.000000    0.000000   \n",
      "75%     676.000000    1.000000    1.000000   47.500000    1.000000   \n",
      "max     890.000000    1.000000    3.000000   80.000000    3.000000   \n",
      "\n",
      "            Parch        Fare  \n",
      "count  183.000000  183.000000  \n",
      "mean     0.475410   78.682469  \n",
      "std      0.754617   76.347843  \n",
      "min      0.000000    0.000000  \n",
      "25%      0.000000   29.700000  \n",
      "50%      0.000000   57.000000  \n",
      "75%      1.000000   90.000000  \n",
      "max      4.000000  512.329200  \n"
     ]
    }
   ],
   "source": [
    " #Display basic info before cleaning\n",
    "print(\"Before Cleaning:\")\n",
    "print(df.info())  # Shows column types and missing values\n",
    "print(df.describe())  # Summary statistics before cleaning"
   ]
  },
  {
   "cell_type": "code",
   "execution_count": 7,
   "id": "41e4fa2d",
   "metadata": {},
   "outputs": [],
   "source": [
    "#Handle Missing Values\n",
    "df = df.dropna()  # Removes rows with any missing values\n",
    "# Alternatively, you can fill missing values instead of removing them:\n",
    "# df.fillna(df.mean(), inplace=True)  # Fill missing values with column mean\n"
   ]
  },
  {
   "cell_type": "code",
   "execution_count": 9,
   "id": "77a30b8a",
   "metadata": {},
   "outputs": [],
   "source": [
    "#Detect & Remove Outliers using the IQR method\n",
    "Q1 = df.quantile(0.25, numeric_only=True)  # 25th percentile\n",
    "Q3 = df.quantile(0.75, numeric_only=True)  # 75th percentile\n",
    "IQR = Q3 - Q1  # Interquartile range\n",
    "\n",
    "# Define lower and upper bounds\n",
    "lower_bound = Q1 - 1.5 * IQR\n",
    "upper_bound = Q3 + 1.5 * IQR\n",
    "\n",
    "# Keep only data within the range\n",
    "df_cleaned = df[~((df.select_dtypes(include=[np.number]) < lower_bound) | \n",
    "                   (df.select_dtypes(include=[np.number]) > upper_bound)).any(axis=1)]\n"
   ]
  },
  {
   "cell_type": "code",
   "execution_count": 10,
   "id": "626e7614",
   "metadata": {},
   "outputs": [
    {
     "name": "stdout",
     "output_type": "stream",
     "text": [
      "\n",
      "After Cleaning:\n",
      "<class 'pandas.core.frame.DataFrame'>\n",
      "Int64Index: 142 entries, 1 to 889\n",
      "Data columns (total 12 columns):\n",
      " #   Column       Non-Null Count  Dtype  \n",
      "---  ------       --------------  -----  \n",
      " 0   PassengerId  142 non-null    int64  \n",
      " 1   Survived     142 non-null    int64  \n",
      " 2   Pclass       142 non-null    int64  \n",
      " 3   Name         142 non-null    object \n",
      " 4   Sex          142 non-null    object \n",
      " 5   Age          142 non-null    float64\n",
      " 6   SibSp        142 non-null    int64  \n",
      " 7   Parch        142 non-null    int64  \n",
      " 8   Ticket       142 non-null    object \n",
      " 9   Fare         142 non-null    float64\n",
      " 10  Cabin        142 non-null    object \n",
      " 11  Embarked     142 non-null    object \n",
      "dtypes: float64(2), int64(5), object(5)\n",
      "memory usage: 14.4+ KB\n",
      "None\n",
      "       PassengerId    Survived  Pclass         Age       SibSp       Parch  \\\n",
      "count   142.000000  142.000000   142.0  142.000000  142.000000  142.000000   \n",
      "mean    465.028169    0.661972     1.0   38.418451    0.436620    0.373239   \n",
      "std     242.175188    0.474713     0.0   14.897120    0.525449    0.669595   \n",
      "min       2.000000    0.000000     1.0    0.920000    0.000000    0.000000   \n",
      "25%     271.000000    0.000000     1.0   28.000000    0.000000    0.000000   \n",
      "50%     486.000000    1.000000     1.0   38.000000    0.000000    0.000000   \n",
      "75%     647.500000    1.000000     1.0   49.000000    1.000000    1.000000   \n",
      "max     890.000000    1.000000     1.0   80.000000    2.000000    2.000000   \n",
      "\n",
      "             Fare  \n",
      "count  142.000000  \n",
      "mean    67.710828  \n",
      "std     36.785702  \n",
      "min      0.000000  \n",
      "25%     34.179150  \n",
      "50%     61.577100  \n",
      "75%     86.500000  \n",
      "max    164.866700  \n"
     ]
    }
   ],
   "source": [
    " #Display info after cleaning\n",
    "print(\"\\nAfter Cleaning:\")\n",
    "print(df_cleaned.info())  # Shows column types and missing values after cleaning\n",
    "print(df_cleaned.describe())  # Summary statistics after cleaning"
   ]
  },
  {
   "cell_type": "code",
   "execution_count": null,
   "id": "19425cc4",
   "metadata": {},
   "outputs": [],
   "source": []
  }
 ],
 "metadata": {
  "kernelspec": {
   "display_name": "Python 3 (ipykernel)",
   "language": "python",
   "name": "python3"
  },
  "language_info": {
   "codemirror_mode": {
    "name": "ipython",
    "version": 3
   },
   "file_extension": ".py",
   "mimetype": "text/x-python",
   "name": "python",
   "nbconvert_exporter": "python",
   "pygments_lexer": "ipython3",
   "version": "3.10.9"
  }
 },
 "nbformat": 4,
 "nbformat_minor": 5
}
