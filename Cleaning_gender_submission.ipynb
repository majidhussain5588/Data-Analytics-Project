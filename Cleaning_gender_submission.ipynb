{
 "cells": [
  {
   "cell_type": "code",
   "execution_count": 1,
   "id": "0bc993d2",
   "metadata": {},
   "outputs": [],
   "source": [
    "import pandas as pd"
   ]
  },
  {
   "cell_type": "code",
   "execution_count": 2,
   "id": "1bc71cc0",
   "metadata": {},
   "outputs": [],
   "source": [
    "df = pd.read_csv('gender_submission.csv')"
   ]
  },
  {
   "cell_type": "code",
   "execution_count": 3,
   "id": "bdccba4f",
   "metadata": {},
   "outputs": [
    {
     "name": "stdout",
     "output_type": "stream",
     "text": [
      "Missing values before cleaning:\n",
      "PassengerId    0\n",
      "Survived       0\n",
      "dtype: int64\n"
     ]
    }
   ],
   "source": [
    "print(\"Missing values before cleaning:\")\n",
    "print(df.isnull().sum())"
   ]
  },
  {
   "cell_type": "code",
   "execution_count": 4,
   "id": "cbe5bfb7",
   "metadata": {},
   "outputs": [],
   "source": [
    "df_clean = df.dropna()"
   ]
  },
  {
   "cell_type": "code",
   "execution_count": 5,
   "id": "a3f12c51",
   "metadata": {},
   "outputs": [
    {
     "name": "stdout",
     "output_type": "stream",
     "text": [
      "\n",
      "Number of invalid survival entries: 0\n"
     ]
    }
   ],
   "source": [
    "invalid_survived = df_clean[~df_clean['Survived'].isin([0, 1])]\n",
    "print(f\"\\nNumber of invalid survival entries: {len(invalid_survived)}\")"
   ]
  },
  {
   "cell_type": "code",
   "execution_count": 6,
   "id": "8d38aab0",
   "metadata": {},
   "outputs": [],
   "source": [
    "df_clean = df_clean[df_clean['Survived'].isin([0, 1])]"
   ]
  },
  {
   "cell_type": "code",
   "execution_count": 7,
   "id": "48102397",
   "metadata": {},
   "outputs": [
    {
     "name": "stdout",
     "output_type": "stream",
     "text": [
      "\n",
      "Number of duplicate Passenger IDs: 0\n"
     ]
    }
   ],
   "source": [
    "duplicate_ids = df_clean[df_clean['PassengerId'].duplicated()]\n",
    "print(f\"\\nNumber of duplicate Passenger IDs: {len(duplicate_ids)}\")"
   ]
  },
  {
   "cell_type": "code",
   "execution_count": 8,
   "id": "99e55e94",
   "metadata": {},
   "outputs": [],
   "source": [
    "df_clean = df_clean.drop_duplicates(subset=['PassengerId'], keep='first')"
   ]
  },
  {
   "cell_type": "code",
   "execution_count": 9,
   "id": "5376d20c",
   "metadata": {},
   "outputs": [
    {
     "name": "stdout",
     "output_type": "stream",
     "text": [
      "\n",
      "Dataset after cleaning:\n",
      "Original rows: 418\n",
      "Cleaned rows: 418\n",
      "\n",
      "Missing values after cleaning:\n",
      "PassengerId    0\n",
      "Survived       0\n",
      "dtype: int64\n"
     ]
    }
   ],
   "source": [
    "print(\"\\nDataset after cleaning:\")\n",
    "print(f\"Original rows: {len(df)}\")\n",
    "print(f\"Cleaned rows: {len(df_clean)}\")\n",
    "print(\"\\nMissing values after cleaning:\")\n",
    "print(df_clean.isnull().sum())"
   ]
  },
  {
   "cell_type": "code",
   "execution_count": null,
   "id": "5e7cc0bb",
   "metadata": {},
   "outputs": [],
   "source": []
  }
 ],
 "metadata": {
  "kernelspec": {
   "display_name": "Python 3 (ipykernel)",
   "language": "python",
   "name": "python3"
  },
  "language_info": {
   "codemirror_mode": {
    "name": "ipython",
    "version": 3
   },
   "file_extension": ".py",
   "mimetype": "text/x-python",
   "name": "python",
   "nbconvert_exporter": "python",
   "pygments_lexer": "ipython3",
   "version": "3.10.9"
  }
 },
 "nbformat": 4,
 "nbformat_minor": 5
}
